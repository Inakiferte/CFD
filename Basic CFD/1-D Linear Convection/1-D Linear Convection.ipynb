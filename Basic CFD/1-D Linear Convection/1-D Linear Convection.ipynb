{
 "cells": [
  {
   "cell_type": "markdown",
   "id": "feef35b6",
   "metadata": {},
   "source": [
    "In this notebook we will solve one of the most basic CFD equation: One dimensional linear convection. The equation we aim to solve is the following one:\n",
    "\n",
    "$$\\frac{\\partial u}{\\partial t}+c\\frac{\\partial u}{\\partial x}$$\n",
    "\n",
    "where $u\\equiv$ Wave x direction displacement, $t\\equiv$ Time and $c\\equiv$ Velocity of the wave in x direction.\n",
    "\n",
    "Our aim is to solve the equation using a finite-difference scheme. To get this we will need to discretize the equation in both time and space. We will use two different but very similar discretization methods: For the space derivative we will use the Backward Euller Method (also known as Implicit Euler Method). In the case of the time derivative, we will use the Forward Euler Method.\n",
    "\n",
    "|Simbol|Definition|Unit|\n",
    "|------|----------|----|\n",
    "|i| Time step|#|\n",
    "|n| Space step|#|\n",
    "|$\\Delta t$| Time step discretization value| s|\n",
    "|$\\Delta x$| Space step discretization value| m|\n",
    "\n",
    "#### Backward Euler Method\n",
    "\n",
    "$$\\frac{\\partial u}{\\partial x}\\sim \\frac{u^{i}_{n}-u^{i}_{n-1}}{\\Delta x}$$\n",
    "\n",
    "\n",
    "#### Forward Euler Method\n",
    "\n",
    "$$\\frac{\\partial u}{\\partial t}\\sim \\frac{u^{i+1}_{n}-u^{i}_{n}}{\\Delta t} $$\n",
    "\n",
    "\n",
    "#### Discretize Equation\n",
    "\n",
    "$$ \\frac{u^{i+1}_{n}-u^{i}_{n}}{\\Delta t} + c \\frac{u^{i}_{n}-u^{i}_{n-1}}{\\Delta x}=0$$"
   ]
  },
  {
   "cell_type": "markdown",
   "id": "0dab2224",
   "metadata": {},
   "source": [
    "$$u^{i+1}_{n}= u^{i}_{n} + c \\frac{\\Delta t}{\\Delta x}(u^{i}_{n-1}-u^{i}_{n})$$"
   ]
  },
  {
   "cell_type": "markdown",
   "id": "ec81a0f9",
   "metadata": {},
   "source": [
    "## Modules for the Code"
   ]
  },
  {
   "cell_type": "code",
   "execution_count": 1,
   "id": "492076ea",
   "metadata": {},
   "outputs": [],
   "source": [
    "import math\n",
    "import matplotlib.pyplot as plt\n",
    "import numpy as np\n",
    "import matplotlib.gridspec as gridspec"
   ]
  },
  {
   "cell_type": "markdown",
   "id": "61783227",
   "metadata": {},
   "source": [
    " ## Paremeter Definitions"
   ]
  },
  {
   "cell_type": "code",
   "execution_count": 2,
   "id": "cbcf6804",
   "metadata": {},
   "outputs": [],
   "source": [
    "n_x = 41 # Discretization points of x-space\n",
    "n_t = 25 # Discretization points of time\n",
    "Delta_x = 2 / (n_x-1) # Time step discretization value\n",
    "Delta_t = 0.025 # Space step discretization value\n",
    "c=1.0 # Wave velocity"
   ]
  },
  {
   "cell_type": "markdown",
   "id": "30981431",
   "metadata": {},
   "source": [
    "## Vectors definition"
   ]
  },
  {
   "cell_type": "code",
   "execution_count": 3,
   "id": "800826c5",
   "metadata": {},
   "outputs": [],
   "source": [
    "time_range = np.arange(0, n_t*Delta_t, Delta_t) # Simulation time range\n",
    "x_space_range= np.arange(0, n_x*Delta_x, Delta_x) # Simulation x-space range\n",
    "ut=np.ones([n_x]) # This vector will contain u values in one step time over n_x points\n",
    "ut_last=np.zeros([n_x]) # This vector will contain u values in one step time over n_x points for nt=0"
   ]
  },
  {
   "cell_type": "markdown",
   "id": "35330745",
   "metadata": {},
   "source": [
    "## Initial State"
   ]
  },
  {
   "cell_type": "code",
   "execution_count": 4,
   "id": "67f08925",
   "metadata": {},
   "outputs": [],
   "source": [
    "# Create a initial state for all n_x points of ut vector\n",
    "for i in range(0,n_x):\n",
    "    if 11<=i<=21:\n",
    "        ut[i] = 2.0\n",
    "    else:\n",
    "        ut[i] = 1.0"
   ]
  },
  {
   "cell_type": "markdown",
   "id": "cfe2b082",
   "metadata": {},
   "source": [
    "## Solver"
   ]
  },
  {
   "cell_type": "code",
   "execution_count": 5,
   "id": "909df648",
   "metadata": {},
   "outputs": [],
   "source": [
    "# We will solve ut for every n_x point in n_t time steps. The objective is to plot the last state of ut.\n",
    "# If we wanted to plot every step of ut, a matrix it can be used with the form ut[n_t,n_x]\n",
    "\n",
    "for i in range(0, n_t):\n",
    "    ut_last = ut.copy() ##copy the existing values of ut into ut_last\n",
    "    for j in range(1, n_x):\n",
    "        ut[ j ]= ut_last[ j ] - c * ( Delta_t / Delta_x ) * (-ut_last[j - 1] + ut_last[j])"
   ]
  },
  {
   "cell_type": "code",
   "execution_count": 15,
   "id": "dd7409a0",
   "metadata": {},
   "outputs": [
    {
     "data": {
      "image/png": "[encoded data removed]",
      "text/plain": [
       "<Figure size 432x288 with 1 Axes>"
      ]
     },
     "metadata": {
      "needs_background": "light"
     },
     "output_type": "display_data"
    }
   ],
   "source": [
    "plt.plot(np.linspace(0, 2, n_x), ut);\n",
    "plt.xlabel(\"x-space (m)\",fontsize=15);\n",
    "plt.ylabel(\"u (m)\",fontsize=15);"
   ]
  },
  {
   "cell_type": "markdown",
   "id": "b868f347",
   "metadata": {},
   "source": [
    "Linear convection can be use for any other parameter like temperatura,... We can also introduce a diffusion term like:\n",
    "\n",
    "$$\\alpha \\frac{\\partial^{2}u}{\\partial x^{2}}$$"
   ]
  },
  {
   "cell_type": "markdown",
   "id": "32352c5b",
   "metadata": {},
   "source": []
  }
 ],
 "metadata": {
  "kernelspec": {
   "display_name": "Python 3",
   "language": "python",
   "name": "python3"
  },
  "language_info": {
   "codemirror_mode": {
    "name": "ipython",
    "version": 3
   },
   "file_extension": ".py",
   "mimetype": "text/x-python",
   "name": "python",
   "nbconvert_exporter": "python",
   "pygments_lexer": "ipython3",
   "version": "3.8.8"
  }
 },
 "nbformat": 4,
 "nbformat_minor": 5
}
